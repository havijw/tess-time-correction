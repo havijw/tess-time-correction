{
 "cells": [
  {
   "cell_type": "markdown",
   "id": "39a85dc0-ea8e-42ce-971e-465a34d8dae1",
   "metadata": {},
   "source": [
    "# TESS Time Correction\n",
    "\n",
    "This notebook implements the method used by the Quick-Look Pipeline to apply barycentric time correction and shows how it is used. At a high level:\n",
    "1. We maintain data files containing the position of TESS at many points in time. We create these files using JPL Horizons; see [the ephemeris data readme](ephemeris_data/README.md) for more information.\n",
    "2. We linearly interpolate TESS's position at each time stamp, and use this to apply standard barycentric correction for a given RA/Dec coordinate."
   ]
  },
  {
   "cell_type": "code",
   "execution_count": 1,
   "id": "dcb88999-b930-4d5b-84fb-54f58cf1a405",
   "metadata": {},
   "outputs": [],
   "source": [
    "from pathlib import Path\n",
    "\n",
    "from astropy.coordinates import SkyCoord\n",
    "from astropy.time import Time, TimeDelta, TimeFromEpoch\n",
    "from astropy import time\n",
    "import astropy.units as u\n",
    "import numpy as np\n",
    "import pandas as pd\n",
    "from scipy.interpolate import interp1d"
   ]
  },
  {
   "cell_type": "code",
   "execution_count": 2,
   "id": "5b93757f-fece-468c-9d9a-ef733662d118",
   "metadata": {},
   "outputs": [],
   "source": [
    "def get_ephemeris_file_path(sector: int) -> Path:\n",
    "    \"\"\"Get the path to the appropriate TESS ephemeris data file for a given sector.\"\"\"\n",
    "    ephemeris_data_directory = Path(\"ephemeris_data\")\n",
    "    if 1 <= sector <= 5:\n",
    "        return ephemeris_data_directory / \"20180720_tess_ephem.csv\"\n",
    "    elif 6 <= sector <= 19:\n",
    "        return ephemeris_data_directory / \"20190101_tess_ephem.csv\"\n",
    "    elif 19 <= sector <= 32:\n",
    "        return ephemeris_data_directory / \"20200101_tess_ephem.csv\"\n",
    "    elif 33 <= sector <= 45:\n",
    "        return ephemeris_data_directory / \"20210101_tess_ephem.csv\"\n",
    "    elif 46 <= sector <= 59:\n",
    "        return ephemeris_data_directory / \"20211215_tess_ephem.csv\"\n",
    "    elif 60 <= sector <= 73:\n",
    "        return ephemeris_data_directory / \"20221201_tess_ephem.csv\"\n",
    "    elif 74 <= sector <= 87:\n",
    "        return ephemeris_data_directory / \"20231201_tess_ephem.csv\"\n",
    "    elif 88 <= sector <= 101:\n",
    "        return ephemeris_data_directory / \"20241201_tess_ephem.csv\"\n",
    "    else:\n",
    "        raise ValueError(\n",
    "            f\"No spacecraft ephemeris file assigned for sector {sector}.\"\n",
    "        )"
   ]
  },
  {
   "cell_type": "code",
   "execution_count": 3,
   "id": "e9a2b899-9c14-48bf-9f97-9afc248c52ac",
   "metadata": {},
   "outputs": [],
   "source": [
    "class TESSJD(TimeFromEpoch):\n",
    "    \"\"\"\n",
    "    Define TJD as (JD - 2457000) and reported in units of days.\n",
    "\n",
    "    Importing this class registers the `\"tjd\"` format with `astropy.time`.\n",
    "    \"\"\"\n",
    "\n",
    "    name = \"tjd\"\n",
    "    unit = 1\n",
    "    epoch_val = 2457000 * u.day\n",
    "    epoch_val2 = None\n",
    "    epoch_scale = \"tdb\"\n",
    "    epoch_format = \"jd\""
   ]
  },
  {
   "cell_type": "code",
   "execution_count": 4,
   "id": "1914db7e-0efa-4c58-a138-b86c46019fa1",
   "metadata": {},
   "outputs": [],
   "source": [
    "def apply_barycentric_correction(\n",
    "    sector: int, tjd: np.typing.ArrayLike, coord: SkyCoord\n",
    ") -> np.ndarray:\n",
    "    \"\"\"\n",
    "    Apply barycentric time correction to timestamps in from a given sector.\n",
    "\n",
    "    Uses data from `ephmeris_data/` for TESS spacecraft position.\n",
    "    Uses vectorized operations so `tjd` and `coord` can be arrays.\n",
    "\n",
    "    Parameters\n",
    "    ----------\n",
    "    sector : int\n",
    "        Sector containing the time stamps that need to be corrected\n",
    "    tjd : ArrayLike\n",
    "        Timestamps (in days) as recorded on the TESS spacecraft\n",
    "    coord : SkyCoord\n",
    "        Sky coordinate(s) of the target star(s) for which correction is being applied\n",
    "\n",
    "    Returns\n",
    "    -------\n",
    "    btjd : Array\n",
    "        Barycentric JD, TDB timestamps.\n",
    "        If `coord` is a scalar, the array shape matches `tjd`.\n",
    "        Otherwise, an axis is added before axis 0 which corresponds to objects.\n",
    "        For instance, if `tjd` is a 1D array and `coord` is an array, the\n",
    "        returned array will have 1 row per coordinate.\n",
    "    \"\"\"\n",
    "    input_times = Time(tjd, format=\"tjd\", scale=\"tdb\")\n",
    "    \n",
    "    # Linearly interpolate spacecraft position at timestamps\n",
    "    ephemeris_data_file = get_ephemeris_file_path(sector)\n",
    "    tess_ephemeris = pd.read_csv(ephemeris_data_file, comment=\"#\")\n",
    "    tess_spacecraft_x = np.interp(input_times.jd, tess_ephemeris[\"JDTDB\"], tess_ephemeris[\"X\"])\n",
    "    tess_spacecraft_y = np.interp(input_times.jd, tess_ephemeris[\"JDTDB\"], tess_ephemeris[\"Y\"])\n",
    "    tess_spacecraft_z = np.interp(input_times.jd, tess_ephemeris[\"JDTDB\"], tess_ephemeris[\"Z\"])\n",
    "    tess_spacecraft_position = np.array(\n",
    "        [tess_spacecraft_x, tess_spacecraft_y, tess_spacecraft_z]\n",
    "    ).T * u.au\n",
    "\n",
    "    # Calculate difference in light travel time to TESS vs solar system barycenter\n",
    "    star_vector = coord.cartesian.xyz\n",
    "    star_projection = np.dot(tess_spacecraft_position, star_vector).T\n",
    "    light_travel_time_delta = TimeDelta(\n",
    "        star_projection.to(u.lightsecond).value * u.second,\n",
    "        format=\"jd\",\n",
    "        scale=\"tdb\",\n",
    "    )\n",
    "    return (input_times + light_travel_time_delta).tjd"
   ]
  },
  {
   "cell_type": "code",
   "execution_count": 5,
   "id": "775fa544-4258-474d-bee5-b8ca4c906b76",
   "metadata": {},
   "outputs": [
    {
     "name": "stdout",
     "output_type": "stream",
     "text": [
      "[[3208.35607996 3208.35839476 3208.36070956]\n",
      " [3208.35616345 3208.35847825 3208.36079305]]\n"
     ]
    }
   ],
   "source": [
    "sector = 70\n",
    "# Example MID_TJD timestamps from cadences 855745-855747 in camera 1\n",
    "tjd = [3208.350463260291, 3208.352778074038, 3208.355092887784]\n",
    "# Example values taken for TIC 2761238 and TIC 8939995\n",
    "coord = SkyCoord(\n",
    "    [(356.485772436, -13.4999191877), (354.410412934, -8.16560533748)],\n",
    "    unit=u.deg,\n",
    ")\n",
    "print(apply_barycentric_correction(sector, tjd, coord))"
   ]
  },
  {
   "cell_type": "code",
   "execution_count": null,
   "id": "9c9a8f3f-4b5e-4924-ab36-9cd1c86c0d1b",
   "metadata": {},
   "outputs": [],
   "source": []
  }
 ],
 "metadata": {
  "kernelspec": {
   "display_name": "Python 3 (ipykernel)",
   "language": "python",
   "name": "python3"
  },
  "language_info": {
   "codemirror_mode": {
    "name": "ipython",
    "version": 3
   },
   "file_extension": ".py",
   "mimetype": "text/x-python",
   "name": "python",
   "nbconvert_exporter": "python",
   "pygments_lexer": "ipython3",
   "version": "3.11.11"
  }
 },
 "nbformat": 4,
 "nbformat_minor": 5
}
